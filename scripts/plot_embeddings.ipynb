{
 "cells": [
  {
   "cell_type": "code",
   "execution_count": null,
   "metadata": {},
   "outputs": [],
   "source": [
    "import umap\n",
    "import numpy as np\n",
    "config_path = os.path.join(\"../configs\", 'config.json')\n",
    "    with open(config_path) as config_buffer:    \n",
    "        config = json.loads(config_buffer.read())\n",
    "labels = np.load(os.path.join(config[\"predict\"][\"db_path\"],'labels.npy'))\n",
    "embeddings = np.load(os.path.join(config[\"predict\"][\"db_path\"],'embeddings.npy'))\n",
    "print(labels)"
   ]
  }
 ],
 "metadata": {
  "language_info": {
   "name": "python"
  },
  "orig_nbformat": 4
 },
 "nbformat": 4,
 "nbformat_minor": 2
}
